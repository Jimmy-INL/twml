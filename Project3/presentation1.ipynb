{
 "cells": [
  {
   "cell_type": "markdown",
   "metadata": {},
   "source": [
    "# Firefighters"
   ]
  },
  {
   "cell_type": "markdown",
   "metadata": {},
   "source": [
    "## Load the data"
   ]
  },
  {
   "cell_type": "code",
   "execution_count": 1,
   "metadata": {},
   "outputs": [
    {
     "name": "stdout",
     "output_type": "stream",
     "text": [
      "<class 'pandas.core.frame.DataFrame'>\n",
      "RangeIndex: 118 entries, 0 to 117\n",
      "Data columns (total 5 columns):\n",
      "Race        118 non-null object\n",
      "Position    118 non-null object\n",
      "Oral        118 non-null float64\n",
      "Written     118 non-null int64\n",
      "Combine     118 non-null float64\n",
      "dtypes: float64(2), int64(1), object(2)\n",
      "memory usage: 4.7+ KB\n"
     ]
    }
   ],
   "source": [
    "import numpy as np\n",
    "import pandas as pd\n",
    "\n",
    "data = pd.read_csv('../data/Firefighters.csv')  # load data set\n",
    "data.info()"
   ]
  },
  {
   "cell_type": "markdown",
   "metadata": {},
   "source": [
    "## Test passers, top scorers\n",
    "\n",
    "Originally there were 8 Lieutenant and 7 Captain positions and within two years total of 16 Lieutenant and 8 Captain positions."
   ]
  },
  {
   "cell_type": "code",
   "execution_count": 2,
   "metadata": {},
   "outputs": [
    {
     "data": {
      "text/html": [
       "<div>\n",
       "<style scoped>\n",
       "    .dataframe tbody tr th:only-of-type {\n",
       "        vertical-align: middle;\n",
       "    }\n",
       "\n",
       "    .dataframe tbody tr th {\n",
       "        vertical-align: top;\n",
       "    }\n",
       "\n",
       "    .dataframe thead th {\n",
       "        text-align: right;\n",
       "    }\n",
       "</style>\n",
       "<table border=\"1\" class=\"dataframe\">\n",
       "  <thead>\n",
       "    <tr style=\"text-align: right;\">\n",
       "      <th></th>\n",
       "      <th>Top_k</th>\n",
       "      <th>Top_k_2y</th>\n",
       "      <th>Passed</th>\n",
       "      <th>Race</th>\n",
       "      <th>Position</th>\n",
       "      <th>Oral</th>\n",
       "      <th>Written</th>\n",
       "      <th>Combine</th>\n",
       "    </tr>\n",
       "  </thead>\n",
       "  <tbody>\n",
       "    <tr>\n",
       "      <td>0</td>\n",
       "      <td>1</td>\n",
       "      <td>1</td>\n",
       "      <td>1</td>\n",
       "      <td>W</td>\n",
       "      <td>Captain</td>\n",
       "      <td>89.52</td>\n",
       "      <td>95</td>\n",
       "      <td>92.808</td>\n",
       "    </tr>\n",
       "    <tr>\n",
       "      <td>1</td>\n",
       "      <td>1</td>\n",
       "      <td>1</td>\n",
       "      <td>1</td>\n",
       "      <td>W</td>\n",
       "      <td>Captain</td>\n",
       "      <td>80.00</td>\n",
       "      <td>95</td>\n",
       "      <td>89.000</td>\n",
       "    </tr>\n",
       "    <tr>\n",
       "      <td>2</td>\n",
       "      <td>1</td>\n",
       "      <td>1</td>\n",
       "      <td>1</td>\n",
       "      <td>W</td>\n",
       "      <td>Captain</td>\n",
       "      <td>82.38</td>\n",
       "      <td>87</td>\n",
       "      <td>85.152</td>\n",
       "    </tr>\n",
       "  </tbody>\n",
       "</table>\n",
       "</div>"
      ],
      "text/plain": [
       "   Top_k  Top_k_2y  Passed Race Position   Oral  Written  Combine\n",
       "0      1         1       1    W  Captain  89.52       95   92.808\n",
       "1      1         1       1    W  Captain  80.00       95   89.000\n",
       "2      1         1       1    W  Captain  82.38       87   85.152"
      ]
     },
     "execution_count": 2,
     "metadata": {},
     "output_type": "execute_result"
    }
   ],
   "source": [
    "def is_top_scoring(x,thresh_ltn,thresh_cpt):\n",
    "    return 1 if ((x[0]=='Captain' and x[1] >= thresh_cpt) or (x[0]=='Lieutenant' and x[1] >= thresh_ltn)) else 0\n",
    "\n",
    "def get_top_scoring(n_ltn, n_cpt):\n",
    "    thresh_ltn = min(data.groupby('Position')['Combine'].nlargest(n_ltn+2)['Captain'])\n",
    "    thresh_cpt = min(data.groupby('Position')['Combine'].nlargest(n_cpt+2)['Lieutenant'])\n",
    "    return data[['Position','Combine']].apply(is_top_scoring, args=(thresh_ltn,thresh_cpt), axis=1)\n",
    "\n",
    "passed = data['Combine'].apply(lambda x: int(x >= 70)).rename('Passed')\n",
    "top_scoring = get_top_scoring(8, 7).rename('Top_k')\n",
    "top_scoring2 = get_top_scoring(16, 8).rename('Top_k_2y')\n",
    "data = pd.concat([top_scoring, top_scoring2, passed, data], axis=1)\n",
    "\n",
    "data.head(3)"
   ]
  },
  {
   "cell_type": "markdown",
   "metadata": {},
   "source": [
    "## Logistic regression\n"
   ]
  },
  {
   "cell_type": "code",
   "execution_count": 3,
   "metadata": {},
   "outputs": [],
   "source": [
    "from sklearn.linear_model import LogisticRegression\n",
    "from sklearn.model_selection import train_test_split\n",
    "\n",
    "features = data.columns.drop(['Race', 'Position', 'Top_k', 'Top_k_2y', 'Passed']).values\n",
    "targets = ['Top_k', 'Top_k_2y', 'Passed']\n",
    "\n",
    "# One-Hot encoding for categorical data\n",
    "for key in ['Position', 'Race']:\n",
    "    dummies = pd.get_dummies(data[key]).rename(columns=lambda x: key+'_' + str(x))\n",
    "    data = pd.concat([data, dummies], axis=1)\n",
    "\n",
    "# Training loop\n",
    "predicted_dict = {}\n",
    "for pos in ['Lieutenant','Captain']:\n",
    "    data2 = data[data['Position'] == pos]\n",
    "    X, X_test, y, y_test = train_test_split(data2.iloc[:,1:], data2[targets], test_size=0.4, random_state=12345)\n",
    "    predicted = pd.concat([X_test['Race'], X_test['Position']], axis=1)\n",
    "    for key in targets:\n",
    "        # Train\n",
    "        lr = LogisticRegression(solver='lbfgs', max_iter=500) \n",
    "        lr.fit(X[features], y[key])\n",
    "        y_pred = lr.predict(X_test[features])\n",
    "        # Results\n",
    "        predicted[key] = y_pred\n",
    "    predicted_dict[pos] = predicted.copy()"
   ]
  },
  {
   "cell_type": "code",
   "execution_count": 4,
   "metadata": {},
   "outputs": [
    {
     "data": {
      "text/html": [
       "<div>\n",
       "<style scoped>\n",
       "    .dataframe tbody tr th:only-of-type {\n",
       "        vertical-align: middle;\n",
       "    }\n",
       "\n",
       "    .dataframe tbody tr th {\n",
       "        vertical-align: top;\n",
       "    }\n",
       "\n",
       "    .dataframe thead th {\n",
       "        text-align: right;\n",
       "    }\n",
       "</style>\n",
       "<table border=\"1\" class=\"dataframe\">\n",
       "  <thead>\n",
       "    <tr style=\"text-align: right;\">\n",
       "      <th></th>\n",
       "      <th>Race</th>\n",
       "      <th>Position</th>\n",
       "      <th>Top_k</th>\n",
       "      <th>Top_k_2y</th>\n",
       "      <th>Passed</th>\n",
       "    </tr>\n",
       "  </thead>\n",
       "  <tbody>\n",
       "    <tr>\n",
       "      <td>45</td>\n",
       "      <td>W</td>\n",
       "      <td>Lieutenant</td>\n",
       "      <td>1</td>\n",
       "      <td>1</td>\n",
       "      <td>1</td>\n",
       "    </tr>\n",
       "    <tr>\n",
       "      <td>101</td>\n",
       "      <td>W</td>\n",
       "      <td>Lieutenant</td>\n",
       "      <td>0</td>\n",
       "      <td>0</td>\n",
       "      <td>0</td>\n",
       "    </tr>\n",
       "    <tr>\n",
       "      <td>61</td>\n",
       "      <td>W</td>\n",
       "      <td>Lieutenant</td>\n",
       "      <td>0</td>\n",
       "      <td>0</td>\n",
       "      <td>1</td>\n",
       "    </tr>\n",
       "  </tbody>\n",
       "</table>\n",
       "</div>"
      ],
      "text/plain": [
       "    Race    Position  Top_k  Top_k_2y  Passed\n",
       "45     W  Lieutenant      1         1       1\n",
       "101    W  Lieutenant      0         0       0\n",
       "61     W  Lieutenant      0         0       1"
      ]
     },
     "execution_count": 4,
     "metadata": {},
     "output_type": "execute_result"
    }
   ],
   "source": [
    "predicted_dict['Lieutenant'].head(3)"
   ]
  },
  {
   "cell_type": "code",
   "execution_count": 5,
   "metadata": {},
   "outputs": [
    {
     "data": {
      "text/html": [
       "<div>\n",
       "<style scoped>\n",
       "    .dataframe tbody tr th:only-of-type {\n",
       "        vertical-align: middle;\n",
       "    }\n",
       "\n",
       "    .dataframe tbody tr th {\n",
       "        vertical-align: top;\n",
       "    }\n",
       "\n",
       "    .dataframe thead th {\n",
       "        text-align: right;\n",
       "    }\n",
       "</style>\n",
       "<table border=\"1\" class=\"dataframe\">\n",
       "  <thead>\n",
       "    <tr style=\"text-align: right;\">\n",
       "      <th></th>\n",
       "      <th>Race</th>\n",
       "      <th>Position</th>\n",
       "      <th>Top_k</th>\n",
       "      <th>Top_k_2y</th>\n",
       "      <th>Passed</th>\n",
       "    </tr>\n",
       "  </thead>\n",
       "  <tbody>\n",
       "    <tr>\n",
       "      <td>32</td>\n",
       "      <td>H</td>\n",
       "      <td>Captain</td>\n",
       "      <td>0</td>\n",
       "      <td>0</td>\n",
       "      <td>0</td>\n",
       "    </tr>\n",
       "    <tr>\n",
       "      <td>19</td>\n",
       "      <td>W</td>\n",
       "      <td>Captain</td>\n",
       "      <td>0</td>\n",
       "      <td>0</td>\n",
       "      <td>1</td>\n",
       "    </tr>\n",
       "    <tr>\n",
       "      <td>2</td>\n",
       "      <td>W</td>\n",
       "      <td>Captain</td>\n",
       "      <td>1</td>\n",
       "      <td>1</td>\n",
       "      <td>1</td>\n",
       "    </tr>\n",
       "  </tbody>\n",
       "</table>\n",
       "</div>"
      ],
      "text/plain": [
       "   Race Position  Top_k  Top_k_2y  Passed\n",
       "32    H  Captain      0         0       0\n",
       "19    W  Captain      0         0       1\n",
       "2     W  Captain      1         1       1"
      ]
     },
     "execution_count": 5,
     "metadata": {},
     "output_type": "execute_result"
    }
   ],
   "source": [
    "predicted_dict['Captain'].head(3)"
   ]
  },
  {
   "cell_type": "markdown",
   "metadata": {},
   "source": [
    "## Adverse impact ratio for predicted data\n"
   ]
  },
  {
   "cell_type": "code",
   "execution_count": 6,
   "metadata": {},
   "outputs": [],
   "source": [
    "def get_summary(df):\n",
    "    passed = df.groupby(['Race','Passed']).size().unstack().fillna(0)\n",
    "    top_k = df.groupby(['Race','Top_k']).size().unstack().fillna(0)\n",
    "    top_k_2y = df.groupby(['Race','Top_k_2y']).size().unstack().fillna(0)\n",
    "    summary =  pd.DataFrame({\n",
    "        'Race': ['B','H','W'], \n",
    "        'Pass': [passed[1]['B'],passed[1]['H'],passed[1]['W']],\n",
    "        'Pass_pr': [0,0,0],\n",
    "        'Fail': [passed[0]['B'],passed[0]['H'],passed[0]['W']],\n",
    "        'Total': [0,0,0],\n",
    "        'Top_k': [top_k[1]['B'],top_k[1]['H'],top_k[1]['W']],\n",
    "        'Top_k_2y': [top_k_2y[1]['B'],top_k_2y[1]['H'],top_k_2y[1]['W']],\n",
    "    })\n",
    "    summary['Total'] = summary['Pass'] + summary['Fail']\n",
    "    summary['Pass_pr'] = 100*summary['Pass']/summary['Total']\n",
    "    summary['Adverse_impact'] = (100*summary['Pass_pr']/max(summary['Pass_pr']))\n",
    "    summary['Pass_pr'] = summary['Pass_pr']\n",
    "    return summary"
   ]
  },
  {
   "cell_type": "markdown",
   "metadata": {},
   "source": [
    "### Lieutenant\n",
    "\n",
    "#### Original data"
   ]
  },
  {
   "cell_type": "code",
   "execution_count": 7,
   "metadata": {},
   "outputs": [
    {
     "data": {
      "text/html": [
       "<div>\n",
       "<style scoped>\n",
       "    .dataframe tbody tr th:only-of-type {\n",
       "        vertical-align: middle;\n",
       "    }\n",
       "\n",
       "    .dataframe tbody tr th {\n",
       "        vertical-align: top;\n",
       "    }\n",
       "\n",
       "    .dataframe thead th {\n",
       "        text-align: right;\n",
       "    }\n",
       "</style>\n",
       "<table border=\"1\" class=\"dataframe\">\n",
       "  <thead>\n",
       "    <tr style=\"text-align: right;\">\n",
       "      <th></th>\n",
       "      <th>Race</th>\n",
       "      <th>Pass</th>\n",
       "      <th>Pass_pr</th>\n",
       "      <th>Fail</th>\n",
       "      <th>Total</th>\n",
       "      <th>Top_k</th>\n",
       "      <th>Top_k_2y</th>\n",
       "      <th>Adverse_impact</th>\n",
       "    </tr>\n",
       "  </thead>\n",
       "  <tbody>\n",
       "    <tr>\n",
       "      <td>0</td>\n",
       "      <td>B</td>\n",
       "      <td>6</td>\n",
       "      <td>31.58</td>\n",
       "      <td>13</td>\n",
       "      <td>19</td>\n",
       "      <td>0.00</td>\n",
       "      <td>4.00</td>\n",
       "      <td>54.32</td>\n",
       "    </tr>\n",
       "    <tr>\n",
       "      <td>1</td>\n",
       "      <td>H</td>\n",
       "      <td>3</td>\n",
       "      <td>20.00</td>\n",
       "      <td>12</td>\n",
       "      <td>15</td>\n",
       "      <td>0.00</td>\n",
       "      <td>0.00</td>\n",
       "      <td>34.40</td>\n",
       "    </tr>\n",
       "    <tr>\n",
       "      <td>2</td>\n",
       "      <td>W</td>\n",
       "      <td>25</td>\n",
       "      <td>58.14</td>\n",
       "      <td>18</td>\n",
       "      <td>43</td>\n",
       "      <td>12.00</td>\n",
       "      <td>16.00</td>\n",
       "      <td>100.00</td>\n",
       "    </tr>\n",
       "  </tbody>\n",
       "</table>\n",
       "</div>"
      ],
      "text/plain": [
       "  Race  Pass  Pass_pr  Fail  Total  Top_k  Top_k_2y  Adverse_impact\n",
       "0    B     6    31.58    13     19   0.00      4.00           54.32\n",
       "1    H     3    20.00    12     15   0.00      0.00           34.40\n",
       "2    W    25    58.14    18     43  12.00     16.00          100.00"
      ]
     },
     "execution_count": 7,
     "metadata": {},
     "output_type": "execute_result"
    }
   ],
   "source": [
    "pd.options.display.float_format = '{:,.2f}'.format\n",
    "get_summary(data[data['Position'] == 'Lieutenant'])"
   ]
  },
  {
   "cell_type": "markdown",
   "metadata": {},
   "source": [
    "#### Predicted data"
   ]
  },
  {
   "cell_type": "code",
   "execution_count": 8,
   "metadata": {},
   "outputs": [
    {
     "data": {
      "text/html": [
       "<div>\n",
       "<style scoped>\n",
       "    .dataframe tbody tr th:only-of-type {\n",
       "        vertical-align: middle;\n",
       "    }\n",
       "\n",
       "    .dataframe tbody tr th {\n",
       "        vertical-align: top;\n",
       "    }\n",
       "\n",
       "    .dataframe thead th {\n",
       "        text-align: right;\n",
       "    }\n",
       "</style>\n",
       "<table border=\"1\" class=\"dataframe\">\n",
       "  <thead>\n",
       "    <tr style=\"text-align: right;\">\n",
       "      <th></th>\n",
       "      <th>Race</th>\n",
       "      <th>Pass</th>\n",
       "      <th>Pass_pr</th>\n",
       "      <th>Fail</th>\n",
       "      <th>Total</th>\n",
       "      <th>Top_k</th>\n",
       "      <th>Top_k_2y</th>\n",
       "      <th>Adverse_impact</th>\n",
       "    </tr>\n",
       "  </thead>\n",
       "  <tbody>\n",
       "    <tr>\n",
       "      <td>0</td>\n",
       "      <td>B</td>\n",
       "      <td>2</td>\n",
       "      <td>40.00</td>\n",
       "      <td>3</td>\n",
       "      <td>5</td>\n",
       "      <td>0.00</td>\n",
       "      <td>1.00</td>\n",
       "      <td>76.00</td>\n",
       "    </tr>\n",
       "    <tr>\n",
       "      <td>1</td>\n",
       "      <td>H</td>\n",
       "      <td>2</td>\n",
       "      <td>28.57</td>\n",
       "      <td>5</td>\n",
       "      <td>7</td>\n",
       "      <td>0.00</td>\n",
       "      <td>0.00</td>\n",
       "      <td>54.29</td>\n",
       "    </tr>\n",
       "    <tr>\n",
       "      <td>2</td>\n",
       "      <td>W</td>\n",
       "      <td>10</td>\n",
       "      <td>52.63</td>\n",
       "      <td>9</td>\n",
       "      <td>19</td>\n",
       "      <td>4.00</td>\n",
       "      <td>4.00</td>\n",
       "      <td>100.00</td>\n",
       "    </tr>\n",
       "  </tbody>\n",
       "</table>\n",
       "</div>"
      ],
      "text/plain": [
       "  Race  Pass  Pass_pr  Fail  Total  Top_k  Top_k_2y  Adverse_impact\n",
       "0    B     2    40.00     3      5   0.00      1.00           76.00\n",
       "1    H     2    28.57     5      7   0.00      0.00           54.29\n",
       "2    W    10    52.63     9     19   4.00      4.00          100.00"
      ]
     },
     "execution_count": 8,
     "metadata": {},
     "output_type": "execute_result"
    }
   ],
   "source": [
    "get_summary(predicted_dict['Lieutenant'])"
   ]
  },
  {
   "cell_type": "markdown",
   "metadata": {},
   "source": [
    "### Captain\n",
    "\n",
    "#### Original data"
   ]
  },
  {
   "cell_type": "code",
   "execution_count": 9,
   "metadata": {},
   "outputs": [
    {
     "data": {
      "text/html": [
       "<div>\n",
       "<style scoped>\n",
       "    .dataframe tbody tr th:only-of-type {\n",
       "        vertical-align: middle;\n",
       "    }\n",
       "\n",
       "    .dataframe tbody tr th {\n",
       "        vertical-align: top;\n",
       "    }\n",
       "\n",
       "    .dataframe thead th {\n",
       "        text-align: right;\n",
       "    }\n",
       "</style>\n",
       "<table border=\"1\" class=\"dataframe\">\n",
       "  <thead>\n",
       "    <tr style=\"text-align: right;\">\n",
       "      <th></th>\n",
       "      <th>Race</th>\n",
       "      <th>Pass</th>\n",
       "      <th>Pass_pr</th>\n",
       "      <th>Fail</th>\n",
       "      <th>Total</th>\n",
       "      <th>Top_k</th>\n",
       "      <th>Top_k_2y</th>\n",
       "      <th>Adverse_impact</th>\n",
       "    </tr>\n",
       "  </thead>\n",
       "  <tbody>\n",
       "    <tr>\n",
       "      <td>0</td>\n",
       "      <td>B</td>\n",
       "      <td>3</td>\n",
       "      <td>37.50</td>\n",
       "      <td>5</td>\n",
       "      <td>8</td>\n",
       "      <td>0.00</td>\n",
       "      <td>0.00</td>\n",
       "      <td>58.59</td>\n",
       "    </tr>\n",
       "    <tr>\n",
       "      <td>1</td>\n",
       "      <td>H</td>\n",
       "      <td>3</td>\n",
       "      <td>37.50</td>\n",
       "      <td>5</td>\n",
       "      <td>8</td>\n",
       "      <td>0.00</td>\n",
       "      <td>0.00</td>\n",
       "      <td>58.59</td>\n",
       "    </tr>\n",
       "    <tr>\n",
       "      <td>2</td>\n",
       "      <td>W</td>\n",
       "      <td>16</td>\n",
       "      <td>64.00</td>\n",
       "      <td>9</td>\n",
       "      <td>25</td>\n",
       "      <td>3.00</td>\n",
       "      <td>3.00</td>\n",
       "      <td>100.00</td>\n",
       "    </tr>\n",
       "  </tbody>\n",
       "</table>\n",
       "</div>"
      ],
      "text/plain": [
       "  Race  Pass  Pass_pr  Fail  Total  Top_k  Top_k_2y  Adverse_impact\n",
       "0    B     3    37.50     5      8   0.00      0.00           58.59\n",
       "1    H     3    37.50     5      8   0.00      0.00           58.59\n",
       "2    W    16    64.00     9     25   3.00      3.00          100.00"
      ]
     },
     "execution_count": 9,
     "metadata": {},
     "output_type": "execute_result"
    }
   ],
   "source": [
    "get_summary(data[data['Position'] == 'Captain'])"
   ]
  },
  {
   "cell_type": "markdown",
   "metadata": {},
   "source": [
    "#### Predicted data"
   ]
  },
  {
   "cell_type": "code",
   "execution_count": 10,
   "metadata": {},
   "outputs": [
    {
     "data": {
      "text/html": [
       "<div>\n",
       "<style scoped>\n",
       "    .dataframe tbody tr th:only-of-type {\n",
       "        vertical-align: middle;\n",
       "    }\n",
       "\n",
       "    .dataframe tbody tr th {\n",
       "        vertical-align: top;\n",
       "    }\n",
       "\n",
       "    .dataframe thead th {\n",
       "        text-align: right;\n",
       "    }\n",
       "</style>\n",
       "<table border=\"1\" class=\"dataframe\">\n",
       "  <thead>\n",
       "    <tr style=\"text-align: right;\">\n",
       "      <th></th>\n",
       "      <th>Race</th>\n",
       "      <th>Pass</th>\n",
       "      <th>Pass_pr</th>\n",
       "      <th>Fail</th>\n",
       "      <th>Total</th>\n",
       "      <th>Top_k</th>\n",
       "      <th>Top_k_2y</th>\n",
       "      <th>Adverse_impact</th>\n",
       "    </tr>\n",
       "  </thead>\n",
       "  <tbody>\n",
       "    <tr>\n",
       "      <td>0</td>\n",
       "      <td>B</td>\n",
       "      <td>1</td>\n",
       "      <td>50.00</td>\n",
       "      <td>1</td>\n",
       "      <td>2</td>\n",
       "      <td>0.00</td>\n",
       "      <td>0.00</td>\n",
       "      <td>71.43</td>\n",
       "    </tr>\n",
       "    <tr>\n",
       "      <td>1</td>\n",
       "      <td>H</td>\n",
       "      <td>2</td>\n",
       "      <td>40.00</td>\n",
       "      <td>3</td>\n",
       "      <td>5</td>\n",
       "      <td>0.00</td>\n",
       "      <td>0.00</td>\n",
       "      <td>57.14</td>\n",
       "    </tr>\n",
       "    <tr>\n",
       "      <td>2</td>\n",
       "      <td>W</td>\n",
       "      <td>7</td>\n",
       "      <td>70.00</td>\n",
       "      <td>3</td>\n",
       "      <td>10</td>\n",
       "      <td>2.00</td>\n",
       "      <td>2.00</td>\n",
       "      <td>100.00</td>\n",
       "    </tr>\n",
       "  </tbody>\n",
       "</table>\n",
       "</div>"
      ],
      "text/plain": [
       "  Race  Pass  Pass_pr  Fail  Total  Top_k  Top_k_2y  Adverse_impact\n",
       "0    B     1    50.00     1      2   0.00      0.00           71.43\n",
       "1    H     2    40.00     3      5   0.00      0.00           57.14\n",
       "2    W     7    70.00     3     10   2.00      2.00          100.00"
      ]
     },
     "execution_count": 10,
     "metadata": {},
     "output_type": "execute_result"
    }
   ],
   "source": [
    "get_summary(predicted_dict['Captain'])"
   ]
  },
  {
   "cell_type": "code",
   "execution_count": null,
   "metadata": {},
   "outputs": [],
   "source": []
  }
 ],
 "metadata": {
  "kernelspec": {
   "display_name": "Python 3",
   "language": "python",
   "name": "python3"
  },
  "language_info": {
   "codemirror_mode": {
    "name": "ipython",
    "version": 3
   },
   "file_extension": ".py",
   "mimetype": "text/x-python",
   "name": "python",
   "nbconvert_exporter": "python",
   "pygments_lexer": "ipython3",
   "version": "3.7.4"
  }
 },
 "nbformat": 4,
 "nbformat_minor": 2
}
