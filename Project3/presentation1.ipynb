{
 "cells": [
  {
   "cell_type": "markdown",
   "metadata": {},
   "source": [
    "# Firefighters"
   ]
  },
  {
   "cell_type": "markdown",
   "metadata": {},
   "source": [
    "### Load the data"
   ]
  },
  {
   "cell_type": "code",
   "execution_count": 275,
   "metadata": {},
   "outputs": [
    {
     "name": "stdout",
     "output_type": "stream",
     "text": [
      "<class 'pandas.core.frame.DataFrame'>\n",
      "RangeIndex: 118 entries, 0 to 117\n",
      "Data columns (total 5 columns):\n",
      "Race        118 non-null object\n",
      "Position    118 non-null object\n",
      "Oral        118 non-null float64\n",
      "Written     118 non-null int64\n",
      "Combine     118 non-null float64\n",
      "dtypes: float64(2), int64(1), object(2)\n",
      "memory usage: 4.7+ KB\n"
     ]
    }
   ],
   "source": [
    "import numpy as np\n",
    "import pandas as pd\n",
    "\n",
    "data = pd.read_csv('../data/Firefighters.csv')  # load data set\n",
    "data.info()"
   ]
  },
  {
   "cell_type": "markdown",
   "metadata": {},
   "source": [
    "### Promoted?\n",
    "\n",
    "Here we assume that there were 3 openings for captain and 12 for lieutenant. The top scoring 3 captain-applicants and 12 lieutenant-applicants are assigned 1 for Promoted, others 0."
   ]
  },
  {
   "cell_type": "code",
   "execution_count": 276,
   "metadata": {},
   "outputs": [
    {
     "name": "stdout",
     "output_type": "stream",
     "text": [
      "   Promoted Race Position   Oral  Written  Combine\n",
      "0         1    W  Captain  89.52       95   92.808\n",
      "1         1    W  Captain  80.00       95   89.000\n",
      "2         1    W  Captain  82.38       87   85.152\n",
      "3         0    W  Captain  88.57       76   81.028\n",
      "4         0    W  Captain  76.19       84   80.876\n"
     ]
    }
   ],
   "source": [
    "def promoted(x):\n",
    "    return 1 if ((x[0]=='Captain' and x[1] >= thresh_cpt) or (x[0]=='Lieutenant' and x[1] >= thresh_ltn)) else 0\n",
    "\n",
    "n_cpt, n_ltn = 3, 12\n",
    "thresh_cpt = min(data.groupby('Position')['Combine'].nlargest(n_cpt)['Captain'])\n",
    "thresh_ltn = min(data.groupby('Position')['Combine'].nlargest(n_ltn)['Lieutenant'])\n",
    "promoted = data[['Position','Combine']].apply(promoted, axis=1).rename('Promoted')\n",
    "data = pd.concat([promoted, data], axis=1)\n",
    "\n",
    "#print(thresh_cpt, thresh_ltn)\n",
    "print(data.head())"
   ]
  },
  {
   "cell_type": "markdown",
   "metadata": {},
   "source": [
    "### Categorical to dummies"
   ]
  },
  {
   "cell_type": "code",
   "execution_count": 277,
   "metadata": {},
   "outputs": [
    {
     "data": {
      "text/html": [
       "<div>\n",
       "<style scoped>\n",
       "    .dataframe tbody tr th:only-of-type {\n",
       "        vertical-align: middle;\n",
       "    }\n",
       "\n",
       "    .dataframe tbody tr th {\n",
       "        vertical-align: top;\n",
       "    }\n",
       "\n",
       "    .dataframe thead th {\n",
       "        text-align: right;\n",
       "    }\n",
       "</style>\n",
       "<table border=\"1\" class=\"dataframe\">\n",
       "  <thead>\n",
       "    <tr style=\"text-align: right;\">\n",
       "      <th></th>\n",
       "      <th>Promoted</th>\n",
       "      <th>Race</th>\n",
       "      <th>Position</th>\n",
       "      <th>Oral</th>\n",
       "      <th>Written</th>\n",
       "      <th>Combine</th>\n",
       "      <th>Position_Captain</th>\n",
       "      <th>Position_Lieutenant</th>\n",
       "      <th>Race_B</th>\n",
       "      <th>Race_H</th>\n",
       "      <th>Race_W</th>\n",
       "    </tr>\n",
       "  </thead>\n",
       "  <tbody>\n",
       "    <tr>\n",
       "      <td>0</td>\n",
       "      <td>1</td>\n",
       "      <td>W</td>\n",
       "      <td>Captain</td>\n",
       "      <td>89.52</td>\n",
       "      <td>95</td>\n",
       "      <td>92.808</td>\n",
       "      <td>1</td>\n",
       "      <td>0</td>\n",
       "      <td>0</td>\n",
       "      <td>0</td>\n",
       "      <td>1</td>\n",
       "    </tr>\n",
       "    <tr>\n",
       "      <td>1</td>\n",
       "      <td>1</td>\n",
       "      <td>W</td>\n",
       "      <td>Captain</td>\n",
       "      <td>80.00</td>\n",
       "      <td>95</td>\n",
       "      <td>89.000</td>\n",
       "      <td>1</td>\n",
       "      <td>0</td>\n",
       "      <td>0</td>\n",
       "      <td>0</td>\n",
       "      <td>1</td>\n",
       "    </tr>\n",
       "    <tr>\n",
       "      <td>2</td>\n",
       "      <td>1</td>\n",
       "      <td>W</td>\n",
       "      <td>Captain</td>\n",
       "      <td>82.38</td>\n",
       "      <td>87</td>\n",
       "      <td>85.152</td>\n",
       "      <td>1</td>\n",
       "      <td>0</td>\n",
       "      <td>0</td>\n",
       "      <td>0</td>\n",
       "      <td>1</td>\n",
       "    </tr>\n",
       "    <tr>\n",
       "      <td>3</td>\n",
       "      <td>0</td>\n",
       "      <td>W</td>\n",
       "      <td>Captain</td>\n",
       "      <td>88.57</td>\n",
       "      <td>76</td>\n",
       "      <td>81.028</td>\n",
       "      <td>1</td>\n",
       "      <td>0</td>\n",
       "      <td>0</td>\n",
       "      <td>0</td>\n",
       "      <td>1</td>\n",
       "    </tr>\n",
       "    <tr>\n",
       "      <td>4</td>\n",
       "      <td>0</td>\n",
       "      <td>W</td>\n",
       "      <td>Captain</td>\n",
       "      <td>76.19</td>\n",
       "      <td>84</td>\n",
       "      <td>80.876</td>\n",
       "      <td>1</td>\n",
       "      <td>0</td>\n",
       "      <td>0</td>\n",
       "      <td>0</td>\n",
       "      <td>1</td>\n",
       "    </tr>\n",
       "  </tbody>\n",
       "</table>\n",
       "</div>"
      ],
      "text/plain": [
       "   Promoted Race Position   Oral  Written  Combine  Position_Captain  \\\n",
       "0         1    W  Captain  89.52       95   92.808                 1   \n",
       "1         1    W  Captain  80.00       95   89.000                 1   \n",
       "2         1    W  Captain  82.38       87   85.152                 1   \n",
       "3         0    W  Captain  88.57       76   81.028                 1   \n",
       "4         0    W  Captain  76.19       84   80.876                 1   \n",
       "\n",
       "   Position_Lieutenant  Race_B  Race_H  Race_W  \n",
       "0                    0       0       0       1  \n",
       "1                    0       0       0       1  \n",
       "2                    0       0       0       1  \n",
       "3                    0       0       0       1  \n",
       "4                    0       0       0       1  "
      ]
     },
     "execution_count": 277,
     "metadata": {},
     "output_type": "execute_result"
    }
   ],
   "source": [
    "# One-Hot encoding for categorical data\n",
    "for key in ['Position', 'Race']:\n",
    "    dummies = pd.get_dummies(data[key]).rename(columns=lambda x: key+'_' + str(x))\n",
    "    data = pd.concat([data, dummies], axis=1)\n",
    "    #data.drop([key], axis=1, inplace=True)\n",
    "data.head()"
   ]
  },
  {
   "cell_type": "markdown",
   "metadata": {},
   "source": [
    "### Train the model\n",
    "\n",
    "Train a logistic regression model. Test set size 20%."
   ]
  },
  {
   "cell_type": "code",
   "execution_count": 281,
   "metadata": {},
   "outputs": [
    {
     "data": {
      "text/html": [
       "<div>\n",
       "<style scoped>\n",
       "    .dataframe tbody tr th:only-of-type {\n",
       "        vertical-align: middle;\n",
       "    }\n",
       "\n",
       "    .dataframe tbody tr th {\n",
       "        vertical-align: top;\n",
       "    }\n",
       "\n",
       "    .dataframe thead th {\n",
       "        text-align: right;\n",
       "    }\n",
       "</style>\n",
       "<table border=\"1\" class=\"dataframe\">\n",
       "  <thead>\n",
       "    <tr style=\"text-align: right;\">\n",
       "      <th></th>\n",
       "      <th>Predicted</th>\n",
       "      <th>Actual</th>\n",
       "      <th>Correct</th>\n",
       "      <th>Race</th>\n",
       "      <th>Position</th>\n",
       "      <th>Oral</th>\n",
       "      <th>Written</th>\n",
       "      <th>Combine</th>\n",
       "      <th>Position_Captain</th>\n",
       "      <th>Position_Lieutenant</th>\n",
       "      <th>Race_B</th>\n",
       "      <th>Race_H</th>\n",
       "      <th>Race_W</th>\n",
       "    </tr>\n",
       "  </thead>\n",
       "  <tbody>\n",
       "    <tr>\n",
       "      <td>54</td>\n",
       "      <td>0</td>\n",
       "      <td>0</td>\n",
       "      <td>1</td>\n",
       "      <td>B</td>\n",
       "      <td>Lieutenant</td>\n",
       "      <td>77.50</td>\n",
       "      <td>76</td>\n",
       "      <td>76.600</td>\n",
       "      <td>0</td>\n",
       "      <td>1</td>\n",
       "      <td>1</td>\n",
       "      <td>0</td>\n",
       "      <td>0</td>\n",
       "    </tr>\n",
       "    <tr>\n",
       "      <td>92</td>\n",
       "      <td>0</td>\n",
       "      <td>0</td>\n",
       "      <td>1</td>\n",
       "      <td>W</td>\n",
       "      <td>Lieutenant</td>\n",
       "      <td>71.67</td>\n",
       "      <td>57</td>\n",
       "      <td>62.868</td>\n",
       "      <td>0</td>\n",
       "      <td>1</td>\n",
       "      <td>0</td>\n",
       "      <td>0</td>\n",
       "      <td>1</td>\n",
       "    </tr>\n",
       "    <tr>\n",
       "      <td>24</td>\n",
       "      <td>0</td>\n",
       "      <td>0</td>\n",
       "      <td>1</td>\n",
       "      <td>W</td>\n",
       "      <td>Captain</td>\n",
       "      <td>71.43</td>\n",
       "      <td>68</td>\n",
       "      <td>69.372</td>\n",
       "      <td>1</td>\n",
       "      <td>0</td>\n",
       "      <td>0</td>\n",
       "      <td>0</td>\n",
       "      <td>1</td>\n",
       "    </tr>\n",
       "    <tr>\n",
       "      <td>102</td>\n",
       "      <td>0</td>\n",
       "      <td>0</td>\n",
       "      <td>1</td>\n",
       "      <td>W</td>\n",
       "      <td>Lieutenant</td>\n",
       "      <td>60.00</td>\n",
       "      <td>60</td>\n",
       "      <td>60.000</td>\n",
       "      <td>0</td>\n",
       "      <td>1</td>\n",
       "      <td>0</td>\n",
       "      <td>0</td>\n",
       "      <td>1</td>\n",
       "    </tr>\n",
       "    <tr>\n",
       "      <td>51</td>\n",
       "      <td>1</td>\n",
       "      <td>1</td>\n",
       "      <td>1</td>\n",
       "      <td>W</td>\n",
       "      <td>Lieutenant</td>\n",
       "      <td>69.58</td>\n",
       "      <td>86</td>\n",
       "      <td>79.432</td>\n",
       "      <td>0</td>\n",
       "      <td>1</td>\n",
       "      <td>0</td>\n",
       "      <td>0</td>\n",
       "      <td>1</td>\n",
       "    </tr>\n",
       "  </tbody>\n",
       "</table>\n",
       "</div>"
      ],
      "text/plain": [
       "     Predicted  Actual  Correct Race    Position   Oral  Written  Combine  \\\n",
       "54           0       0        1    B  Lieutenant  77.50       76   76.600   \n",
       "92           0       0        1    W  Lieutenant  71.67       57   62.868   \n",
       "24           0       0        1    W     Captain  71.43       68   69.372   \n",
       "102          0       0        1    W  Lieutenant  60.00       60   60.000   \n",
       "51           1       1        1    W  Lieutenant  69.58       86   79.432   \n",
       "\n",
       "     Position_Captain  Position_Lieutenant  Race_B  Race_H  Race_W  \n",
       "54                  0                    1       1       0       0  \n",
       "92                  0                    1       0       0       1  \n",
       "24                  1                    0       0       0       1  \n",
       "102                 0                    1       0       0       1  \n",
       "51                  0                    1       0       0       1  "
      ]
     },
     "execution_count": 281,
     "metadata": {},
     "output_type": "execute_result"
    }
   ],
   "source": [
    "from sklearn.linear_model import LogisticRegression\n",
    "from sklearn.model_selection import train_test_split\n",
    "\n",
    "features = data.columns.drop(['Race', 'Position', 'Promoted']).values\n",
    "X, X_test, y, y_test = train_test_split(data.iloc[:,1:], data['Promoted'], test_size=0.33, random_state=12345)\n",
    "\n",
    "# Train\n",
    "lr = LogisticRegression(class_weight = 'balanced', solver='lbfgs', max_iter=500) \n",
    "lr.fit(X[features], y)\n",
    "\n",
    "# Predict\n",
    "y_pred = lr.predict(X_test[features])\n",
    "\n",
    "# Results data set\n",
    "results = pd.DataFrame({'Predicted':y_pred, 'Actual':y_test})\n",
    "results['Correct'] = results.apply(lambda x: int(x[0]==x[1]), axis=1)\n",
    "results = pd.concat([results, X_test], axis=1)\n",
    "results.head()"
   ]
  },
  {
   "cell_type": "markdown",
   "metadata": {},
   "source": [
    "### Results\n",
    "\n",
    "#### Model accuracy"
   ]
  },
  {
   "cell_type": "code",
   "execution_count": 279,
   "metadata": {},
   "outputs": [
    {
     "data": {
      "text/plain": [
       "0.9743589743589743"
      ]
     },
     "execution_count": 279,
     "metadata": {},
     "output_type": "execute_result"
    }
   ],
   "source": [
    "acc = sum(results['Correct'])/len(results['Correct'])\n",
    "acc"
   ]
  },
  {
   "cell_type": "markdown",
   "metadata": {},
   "source": [
    "#### Predicted promotions by race"
   ]
  },
  {
   "cell_type": "code",
   "execution_count": 280,
   "metadata": {},
   "outputs": [
    {
     "name": "stdout",
     "output_type": "stream",
     "text": [
      "Race  Predicted\n",
      "B     0             7\n",
      "H     0             6\n",
      "W     0            19\n",
      "      1             7\n",
      "dtype: int64\n"
     ]
    }
   ],
   "source": [
    "# Promoted by race\n",
    "byrace = results.groupby(['Race', 'Predicted']).size()\n",
    "print(byrace)"
   ]
  },
  {
   "cell_type": "markdown",
   "metadata": {},
   "source": [
    "### Discriminative measures"
   ]
  },
  {
   "cell_type": "code",
   "execution_count": 316,
   "metadata": {},
   "outputs": [
    {
     "name": "stdout",
     "output_type": "stream",
     "text": [
      "White (19, 7)\n",
      "Hispanic (6, 0)\n",
      "Black (7, 0)\n"
     ]
    }
   ],
   "source": [
    "def get_count(key, key2):\n",
    "    if key2 in byrace[key].index.values:\n",
    "        return byrace[key][key2]\n",
    "    return 0\n",
    "\n",
    "def get_predicted_count(key):\n",
    "    return get_count(key, 0), get_count(key, 1)\n",
    "\n",
    "# White\n",
    "w = get_predicted_count('W')\n",
    "print('White', w)\n",
    "\n",
    "# Hispanic\n",
    "h = get_predicted_count('H')\n",
    "print('Hispanic', h)\n",
    "\n",
    "# Black\n",
    "b = get_predicted_count('B')\n",
    "print('Black', b)"
   ]
  },
  {
   "attachments": {
    "image.png": {
     "image/png": "[encoded data removed]"
    }
   },
   "cell_type": "markdown",
   "metadata": {},
   "source": [
    "#### Precision and recall\n",
    "\n",
    "From wikipedia: https://en.wikipedia.org/wiki/Precision_and_recall\n",
    "\n",
    "![image.png](attachment:image.png)"
   ]
  },
  {
   "cell_type": "code",
   "execution_count": 317,
   "metadata": {},
   "outputs": [],
   "source": [
    "# Precision\n",
    "\n",
    "\n",
    "\n"
   ]
  },
  {
   "cell_type": "code",
   "execution_count": null,
   "metadata": {},
   "outputs": [],
   "source": []
  }
 ],
 "metadata": {
  "kernelspec": {
   "display_name": "Python 3",
   "language": "python",
   "name": "python3"
  },
  "language_info": {
   "codemirror_mode": {
    "name": "ipython",
    "version": 3
   },
   "file_extension": ".py",
   "mimetype": "text/x-python",
   "name": "python",
   "nbconvert_exporter": "python",
   "pygments_lexer": "ipython3",
   "version": "3.7.4"
  }
 },
 "nbformat": 4,
 "nbformat_minor": 2
}
